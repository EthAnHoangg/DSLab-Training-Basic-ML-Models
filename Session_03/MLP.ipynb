{
 "cells": [
  {
   "attachments": {},
   "cell_type": "markdown",
   "metadata": {},
   "source": [
    "# Importing torch and other libraries"
   ]
  },
  {
   "cell_type": "code",
   "execution_count": 5,
   "metadata": {},
   "outputs": [],
   "source": [
    "import numpy as np\n",
    "\n",
    "import torch\n",
    "import torch.nn as nn\n",
    "import torch.nn.functional as F\n",
    "from torch.autograd import Variable\n",
    "\n",
    "from sklearn.metrics import accuracy_score\n",
    "from sklearn.model_selection import train_test_split\n",
    "\n",
    "import matplotlib.pyplot as plt\n",
    "import matplotlib.cm as cm\n",
    "%matplotlib inline\n",
    "\n",
    "device = (\"cuda\" if torch.cuda.is_available() else \"cpu\")"
   ]
  },
  {
   "attachments": {},
   "cell_type": "markdown",
   "metadata": {},
   "source": [
    "# Load data"
   ]
  },
  {
   "cell_type": "code",
   "execution_count": 6,
   "metadata": {},
   "outputs": [],
   "source": [
    "def load_data(data_path):\n",
    "    def sparse_to_dense(sparse_r_d, vocab_size):\n",
    "        \"\"\"\n",
    "        Convert a sparse representation of a document by tf-idf to dense form\n",
    "        by mapping its word to a new vector of vocabulary size.\n",
    "        Word without any appearance in the doc get the value 0.0\n",
    "        \"\"\"\n",
    "        r_d = [0.0 for _ in range(vocab_size)]\n",
    "        indices_tf_idfs = sparse_r_d.split()\n",
    "        for index_tf_idf in indices_tf_idfs:\n",
    "            index = int(index_tf_idf.split(\":\")[0])\n",
    "            tfidf = float(index_tf_idf.split(\":\")[1])\n",
    "            r_d[index] = tfidf\n",
    "        return np.array(r_d)\n",
    "    with open(data_path) as f:\n",
    "        d_lines = f.read().splitlines()\n",
    "    with open(\"../datasets/20news-bydate/words_idfs.txt\") as f:\n",
    "        vocab_size = len(f.read().splitlines())\n",
    "\n",
    "    X = []\n",
    "    Y = []\n",
    "    # label_count = defaultdict(int)\n",
    "    for data_id, d in enumerate(d_lines):\n",
    "        features = d.split(\"<fff>\")\n",
    "        label, doc_id = int(features[0]), int(features[1])\n",
    "        # label_count[label] += 1\n",
    "        r_d = sparse_to_dense(\n",
    "            sparse_r_d=features[2], vocab_size=vocab_size)\n",
    "        X.append(r_d)\n",
    "        one_hot_label = np.zeros((20), dtype=int)\n",
    "        one_hot_label[label] = 1\n",
    "        Y.append(one_hot_label)\n",
    "    return np.array(X, dtype=np.float32), np.array(Y, dtype=np.float32)"
   ]
  },
  {
   "cell_type": "code",
   "execution_count": 8,
   "metadata": {},
   "outputs": [],
   "source": [
    "X_train, Y_train = load_data('../datasets/20news-bydate/train_tf_idf.txt')\n",
    "X_test, Y_test = load_data('../datasets/20news-bydate/test_tf_idf.txt')"
   ]
  },
  {
   "cell_type": "code",
   "execution_count": 9,
   "metadata": {},
   "outputs": [],
   "source": [
    "X_train = torch.from_numpy(X_train)\n",
    "X_test = torch.from_numpy(X_test)\n",
    "Y_train = torch.from_numpy(Y_train.squeeze())\n",
    "Y_test = torch.from_numpy(Y_test.squeeze())"
   ]
  },
  {
   "cell_type": "code",
   "execution_count": 5,
   "metadata": {},
   "outputs": [],
   "source": [
    "X_train = X_train.to(torch.float32)"
   ]
  },
  {
   "attachments": {},
   "cell_type": "markdown",
   "metadata": {},
   "source": [
    "# Build the model"
   ]
  },
  {
   "cell_type": "code",
   "execution_count": 11,
   "metadata": {},
   "outputs": [],
   "source": [
    "class MLP(nn.Module):\n",
    "    def __init__(self, input_num, hidden_num, output_num):\n",
    "        super().__init__()\n",
    "        self.input_num = input_num\n",
    "        self.hidden_num = hidden_num\n",
    "        self.output_num = output_num\n",
    "        self.fc1 = nn.Linear(input_num, hidden_num) # hidden layer\n",
    "        self.fc2 = nn.Linear(hidden_num, output_num) # output layer\n",
    "        self.sigmoid = nn.Sigmoid() # sigmoid activation function\n",
    "        self.relu = nn.ReLU() # relu activation function\n",
    "        self.softmax = nn.Softmax(dim = 1) # softmax activation function\n",
    "    \n",
    "    def forward(self, x):\n",
    "        x = self.relu(self.fc1(x)) \n",
    "        x = self.softmax(self.fc2(x))\n",
    "        return x\n",
    "    \n",
    "    def predict(self, x):\n",
    "        self.eval()\n",
    "        with torch.no_grad():\n",
    "            output = self(x)\n",
    "            predicted_labels = torch.argmax(output, dim=1)\n",
    "            one_hot = torch.zeros_like(output)\n",
    "            one_hot.scatter_(1, predicted_labels.unsqueeze(1), 1)\n",
    "            return one_hot.tolist()\n"
   ]
  },
  {
   "cell_type": "code",
   "execution_count": 12,
   "metadata": {},
   "outputs": [
    {
     "name": "stdout",
     "output_type": "stream",
     "text": [
      "MLP(\n",
      "  (fc1): Linear(in_features=14230, out_features=50, bias=True)\n",
      "  (fc2): Linear(in_features=50, out_features=20, bias=True)\n",
      "  (sigmoid): Sigmoid()\n",
      "  (relu): ReLU()\n",
      "  (softmax): Softmax(dim=1)\n",
      ")\n"
     ]
    }
   ],
   "source": [
    "with open(\"../datasets/20news-bydate/words_idfs.txt\") as f:\n",
    "        vocab_size = len(f.read().splitlines())\n",
    "\n",
    "input_num = vocab_size\n",
    "hidden_num = 50\n",
    "output_num = 20 # The output should be the same as the number of classes\n",
    "\n",
    "model = MLP(input_num, hidden_num, output_num)\n",
    "model.to(device)\n",
    "print(model)\n",
    "     "
   ]
  },
  {
   "cell_type": "code",
   "execution_count": 13,
   "metadata": {},
   "outputs": [],
   "source": [
    "criterion = torch.nn.CrossEntropyLoss()\n",
    "optimizer = torch.optim.Adam(model.parameters(), lr = 0.01)"
   ]
  },
  {
   "cell_type": "code",
   "execution_count": 17,
   "metadata": {},
   "outputs": [
    {
     "name": "stdout",
     "output_type": "stream",
     "text": [
      "Epoch [0/100], Loss: 2.08655\n",
      "Epoch [10/100], Loss: 2.08644\n",
      "Epoch [20/100], Loss: 2.08632\n",
      "Epoch [30/100], Loss: 2.08629\n",
      "Epoch [40/100], Loss: 2.08623\n",
      "Epoch [50/100], Loss: 2.08619\n",
      "Epoch [60/100], Loss: 2.08617\n",
      "Epoch [70/100], Loss: 2.08611\n",
      "Epoch [80/100], Loss: 2.08610\n",
      "Epoch [90/100], Loss: 2.08610\n",
      "\n",
      "Training Complete\n"
     ]
    }
   ],
   "source": [
    "num_epochs = 100 # num of epochs\n",
    "\n",
    "for epoch in range(num_epochs):\n",
    "    # forward propagation\n",
    "    Y_pred = model(X_train)\n",
    "    loss = criterion(Y_pred, Y_train)\n",
    "    \n",
    "    # back propagation\n",
    "    optimizer.zero_grad()\n",
    "    loss.backward()\n",
    "    optimizer.step()\n",
    "    \n",
    "    if epoch % 10 == 0:\n",
    "        print('Epoch [{}/{}], Loss: {:.5f}'.format(epoch, num_epochs, loss.item()))\n",
    "print('\\nTraining Complete')"
   ]
  },
  {
   "cell_type": "code",
   "execution_count": 18,
   "metadata": {},
   "outputs": [],
   "source": [
    "model_prediction = model.predict(X_test)"
   ]
  },
  {
   "cell_type": "code",
   "execution_count": 19,
   "metadata": {},
   "outputs": [
    {
     "name": "stdout",
     "output_type": "stream",
     "text": [
      "Accuracy Score on test data ==>> 80.40361125862985%\n"
     ]
    }
   ],
   "source": [
    "print(\"Accuracy Score on test data ==>> {}%\".format(accuracy_score(model_prediction, Y_test) * 100))"
   ]
  },
  {
   "attachments": {},
   "cell_type": "markdown",
   "metadata": {},
   "source": [
    "# Minibatch GD"
   ]
  },
  {
   "cell_type": "code",
   "execution_count": 20,
   "metadata": {},
   "outputs": [
    {
     "name": "stdout",
     "output_type": "stream",
     "text": [
      "Epoch [0/10], Loss: 2.07815\n",
      "Epoch [1/10], Loss: 2.07815\n",
      "Epoch [2/10], Loss: 2.07816\n",
      "Epoch [3/10], Loss: 2.07815\n",
      "Epoch [4/10], Loss: 2.07815\n",
      "Epoch [5/10], Loss: 2.07815\n",
      "Epoch [6/10], Loss: 2.07816\n",
      "Epoch [7/10], Loss: 2.07815\n",
      "Epoch [8/10], Loss: 2.07815\n",
      "Epoch [9/10], Loss: 2.07816\n"
     ]
    }
   ],
   "source": [
    "from torch.utils.data import TensorDataset, DataLoader\n",
    "\n",
    "dataset = TensorDataset(X_train, Y_train)\n",
    "\n",
    "# Create a DataLoader from the TensorDataset\n",
    "batch_size = 16 # the batch size to use for training\n",
    "dataloader = DataLoader(dataset, batch_size=batch_size, shuffle=True)\n",
    "\n",
    "# Train the model\n",
    "num_epochs = 10# the number of training epochs\n",
    "loss_lst = []\n",
    "for epoch in range(num_epochs):\n",
    "    for input_batch, target_batch in dataloader:\n",
    "        # Zero the gradients\n",
    "        optimizer.zero_grad()\n",
    "        \n",
    "        # Compute the model output\n",
    "        output = model(input_batch)\n",
    "        \n",
    "        # Compute the loss\n",
    "        loss = criterion(output, target_batch)\n",
    "        if epoch == 0:\n",
    "            loss_lst.append(loss.item())\n",
    "        # Backpropagate the loss\n",
    "        loss.backward()\n",
    "        \n",
    "        # Update the model parameters\n",
    "        optimizer.step()\n",
    "    \n",
    "    print('Epoch [{}/{}], Loss: {:.5f}'.format(epoch, num_epochs, loss.item()))"
   ]
  },
  {
   "cell_type": "code",
   "execution_count": 21,
   "metadata": {},
   "outputs": [],
   "source": [
    "model_prediction = model.predict(X_test)"
   ]
  },
  {
   "cell_type": "code",
   "execution_count": 22,
   "metadata": {},
   "outputs": [
    {
     "name": "stdout",
     "output_type": "stream",
     "text": [
      "Accuracy Score on test data ==>> 80.28412108337758%\n"
     ]
    }
   ],
   "source": [
    "print(\"Accuracy Score on test data ==>> {}%\".format(accuracy_score(model_prediction, Y_test) * 100))"
   ]
  },
  {
   "cell_type": "code",
   "execution_count": null,
   "metadata": {},
   "outputs": [],
   "source": []
  }
 ],
 "metadata": {
  "kernelspec": {
   "display_name": "Python 3",
   "language": "python",
   "name": "python3"
  },
  "language_info": {
   "codemirror_mode": {
    "name": "ipython",
    "version": 3
   },
   "file_extension": ".py",
   "mimetype": "text/x-python",
   "name": "python",
   "nbconvert_exporter": "python",
   "pygments_lexer": "ipython3",
   "version": "3.9.0"
  },
  "orig_nbformat": 4,
  "vscode": {
   "interpreter": {
    "hash": "aee8b7b246df8f9039afb4144a1f6fd8d2ca17a180786b69acc140d282b71a49"
   }
  }
 },
 "nbformat": 4,
 "nbformat_minor": 2
}
