{
 "cells": [
  {
   "cell_type": "markdown",
   "metadata": {},
   "source": [
    "# Import necessary python lib"
   ]
  },
  {
   "cell_type": "code",
   "execution_count": 23,
   "metadata": {},
   "outputs": [],
   "source": [
    "import pandas as pd\n",
    "import numpy as np"
   ]
  },
  {
   "cell_type": "markdown",
   "metadata": {},
   "source": [
    "# Preprocessing"
   ]
  },
  {
   "cell_type": "code",
   "execution_count": 24,
   "metadata": {},
   "outputs": [],
   "source": [
    "with open(\"x28.txt\") as f:\n",
    "    data = []\n",
    "    content = f.readlines()[72:]\n",
    "    for line in content:\n",
    "        line  = line.strip()\n",
    "        row = [float(i) for i in (line.split())[1:]]\n",
    "        data.append(row)\n",
    "    data = np.array(data)"
   ]
  },
  {
   "cell_type": "markdown",
   "metadata": {},
   "source": [
    "# Get data"
   ]
  },
  {
   "cell_type": "code",
   "execution_count": 25,
   "metadata": {},
   "outputs": [
    {
     "data": {
      "text/html": [
       "<div>\n",
       "<style scoped>\n",
       "    .dataframe tbody tr th:only-of-type {\n",
       "        vertical-align: middle;\n",
       "    }\n",
       "\n",
       "    .dataframe tbody tr th {\n",
       "        vertical-align: top;\n",
       "    }\n",
       "\n",
       "    .dataframe thead th {\n",
       "        text-align: right;\n",
       "    }\n",
       "</style>\n",
       "<table border=\"1\" class=\"dataframe\">\n",
       "  <thead>\n",
       "    <tr style=\"text-align: right;\">\n",
       "      <th></th>\n",
       "      <th>0</th>\n",
       "      <th>1</th>\n",
       "      <th>2</th>\n",
       "      <th>3</th>\n",
       "      <th>4</th>\n",
       "      <th>5</th>\n",
       "      <th>6</th>\n",
       "      <th>7</th>\n",
       "      <th>8</th>\n",
       "      <th>9</th>\n",
       "      <th>10</th>\n",
       "      <th>11</th>\n",
       "      <th>12</th>\n",
       "      <th>13</th>\n",
       "      <th>14</th>\n",
       "      <th>15</th>\n",
       "    </tr>\n",
       "  </thead>\n",
       "  <tbody>\n",
       "    <tr>\n",
       "      <th>0</th>\n",
       "      <td>36.0</td>\n",
       "      <td>27.0</td>\n",
       "      <td>71.0</td>\n",
       "      <td>8.1</td>\n",
       "      <td>3.34</td>\n",
       "      <td>11.4</td>\n",
       "      <td>81.5</td>\n",
       "      <td>3243.0</td>\n",
       "      <td>8.8</td>\n",
       "      <td>42.6</td>\n",
       "      <td>11.7</td>\n",
       "      <td>21.0</td>\n",
       "      <td>15.0</td>\n",
       "      <td>59.0</td>\n",
       "      <td>59.0</td>\n",
       "      <td>921.870</td>\n",
       "    </tr>\n",
       "    <tr>\n",
       "      <th>1</th>\n",
       "      <td>35.0</td>\n",
       "      <td>23.0</td>\n",
       "      <td>72.0</td>\n",
       "      <td>11.1</td>\n",
       "      <td>3.14</td>\n",
       "      <td>11.0</td>\n",
       "      <td>78.8</td>\n",
       "      <td>4281.0</td>\n",
       "      <td>3.6</td>\n",
       "      <td>50.7</td>\n",
       "      <td>14.4</td>\n",
       "      <td>8.0</td>\n",
       "      <td>10.0</td>\n",
       "      <td>39.0</td>\n",
       "      <td>57.0</td>\n",
       "      <td>997.875</td>\n",
       "    </tr>\n",
       "    <tr>\n",
       "      <th>2</th>\n",
       "      <td>44.0</td>\n",
       "      <td>29.0</td>\n",
       "      <td>74.0</td>\n",
       "      <td>10.4</td>\n",
       "      <td>3.21</td>\n",
       "      <td>9.8</td>\n",
       "      <td>81.6</td>\n",
       "      <td>4260.0</td>\n",
       "      <td>0.8</td>\n",
       "      <td>39.4</td>\n",
       "      <td>12.4</td>\n",
       "      <td>6.0</td>\n",
       "      <td>6.0</td>\n",
       "      <td>33.0</td>\n",
       "      <td>54.0</td>\n",
       "      <td>962.354</td>\n",
       "    </tr>\n",
       "    <tr>\n",
       "      <th>3</th>\n",
       "      <td>47.0</td>\n",
       "      <td>45.0</td>\n",
       "      <td>79.0</td>\n",
       "      <td>6.5</td>\n",
       "      <td>3.41</td>\n",
       "      <td>11.1</td>\n",
       "      <td>77.5</td>\n",
       "      <td>3125.0</td>\n",
       "      <td>27.1</td>\n",
       "      <td>50.2</td>\n",
       "      <td>20.6</td>\n",
       "      <td>18.0</td>\n",
       "      <td>8.0</td>\n",
       "      <td>24.0</td>\n",
       "      <td>56.0</td>\n",
       "      <td>982.291</td>\n",
       "    </tr>\n",
       "    <tr>\n",
       "      <th>4</th>\n",
       "      <td>43.0</td>\n",
       "      <td>35.0</td>\n",
       "      <td>77.0</td>\n",
       "      <td>7.6</td>\n",
       "      <td>3.44</td>\n",
       "      <td>9.6</td>\n",
       "      <td>84.6</td>\n",
       "      <td>6441.0</td>\n",
       "      <td>24.4</td>\n",
       "      <td>43.7</td>\n",
       "      <td>14.3</td>\n",
       "      <td>43.0</td>\n",
       "      <td>38.0</td>\n",
       "      <td>206.0</td>\n",
       "      <td>55.0</td>\n",
       "      <td>1071.289</td>\n",
       "    </tr>\n",
       "  </tbody>\n",
       "</table>\n",
       "</div>"
      ],
      "text/plain": [
       "     0     1     2     3     4     5     6       7     8     9     10    11  \\\n",
       "0  36.0  27.0  71.0   8.1  3.34  11.4  81.5  3243.0   8.8  42.6  11.7  21.0   \n",
       "1  35.0  23.0  72.0  11.1  3.14  11.0  78.8  4281.0   3.6  50.7  14.4   8.0   \n",
       "2  44.0  29.0  74.0  10.4  3.21   9.8  81.6  4260.0   0.8  39.4  12.4   6.0   \n",
       "3  47.0  45.0  79.0   6.5  3.41  11.1  77.5  3125.0  27.1  50.2  20.6  18.0   \n",
       "4  43.0  35.0  77.0   7.6  3.44   9.6  84.6  6441.0  24.4  43.7  14.3  43.0   \n",
       "\n",
       "     12     13    14        15  \n",
       "0  15.0   59.0  59.0   921.870  \n",
       "1  10.0   39.0  57.0   997.875  \n",
       "2   6.0   33.0  54.0   962.354  \n",
       "3   8.0   24.0  56.0   982.291  \n",
       "4  38.0  206.0  55.0  1071.289  "
      ]
     },
     "execution_count": 25,
     "metadata": {},
     "output_type": "execute_result"
    }
   ],
   "source": [
    "df = pd.DataFrame(data)\n",
    "df.head()"
   ]
  },
  {
   "cell_type": "code",
   "execution_count": 26,
   "metadata": {},
   "outputs": [],
   "source": [
    "X = data[:, :-1]\n",
    "Y = data[:, -1]\n",
    "m = X.shape[0]\n",
    "n = X.shape[1]"
   ]
  },
  {
   "cell_type": "markdown",
   "metadata": {},
   "source": [
    "## Data description"
   ]
  },
  {
   "cell_type": "code",
   "execution_count": 27,
   "metadata": {},
   "outputs": [
    {
     "name": "stdout",
     "output_type": "stream",
     "text": [
      "Shape of X: (60, 15)\n",
      "Shape of Y: (60,)\n",
      "Number of samples m = 60\n",
      "Number of features n = 15\n"
     ]
    }
   ],
   "source": [
    "print(\"Shape of X:\", X.shape)\n",
    "print(\"Shape of Y:\", Y.shape)\n",
    "print(\"Number of samples m =\", m)\n",
    "print(\"Number of features n =\", n)"
   ]
  },
  {
   "cell_type": "markdown",
   "metadata": {},
   "source": [
    "# Normalize data"
   ]
  },
  {
   "cell_type": "code",
   "execution_count": 28,
   "metadata": {},
   "outputs": [],
   "source": [
    "def normalize_and_add_ones(X):\n",
    "    X_max = np.max(X, axis = 0)\n",
    "    X_min = np.min(X, axis = 0)\n",
    "    X_range = X_max - X_min\n",
    "    X_normalized = (X - X_min) / (X_range)\n",
    "    ones = np.ones((X_normalized.shape[0]))\n",
    "    return np.column_stack((ones, X_normalized))"
   ]
  },
  {
   "cell_type": "markdown",
   "metadata": {},
   "source": [
    "# Building model"
   ]
  },
  {
   "cell_type": "code",
   "execution_count": 32,
   "metadata": {},
   "outputs": [],
   "source": [
    "class RidgeRegression:\n",
    "    def __init__(self) -> None:\n",
    "        pass\n",
    "    def fit(self, X_train, Y_train, LAMBDA):\n",
    "        assert len(X_train.shape) == 2 and X_train.shape[0] == Y_train.shape[0]\n",
    "        W = np.linalg.pinv(X_train.T.dot(X_train) \\\n",
    "             + LAMBDA * np.identity(X_train.shape[1])).dot(X_train.T).dot(Y_train)\n",
    "        # print(W)\n",
    "        return W\n",
    "    def predict(self, W, X_new):\n",
    "        X_new = np.array(X_new)\n",
    "        return W.dot(X_new.T)\n",
    "    def compute_RSS(self, Y_new, Y_pred):\n",
    "        m = Y_new.shape[0]\n",
    "        loss = 1/m * (np.sum((Y_new - Y_pred)**2))\n",
    "        return loss\n",
    "    def get_the_best_LAMBDA(self, X_train, Y_train):\n",
    "\n",
    "        def cross_validation(num_folds, LAMBDA):\n",
    "            # get the index of all rows in the table\n",
    "            row_ids = np.array(range(X_train.shape[0]))\n",
    "            # valid end is the last index to get a valid split\n",
    "            valid_end = len(row_ids) - len(row_ids) % num_folds\n",
    "            valid_ids_set = np.split(row_ids[:valid_end], num_folds)\n",
    "            # append the last index set which is not included in valid split above\n",
    "            valid_ids_set.append(row_ids[valid_end:])\n",
    "            # i-th training set may contain all number index k such that k not in i-th valid_ids_set\n",
    "            train_ids_set = [[k for k in row_ids if k not in valid_ids_set[i]] for i in range (num_folds)]\n",
    "            avg_RSS = 0\n",
    "            for i in range (num_folds):\n",
    "                valid_part = {\"X\": X_train[valid_ids_set[i]], \"Y\": Y_train[valid_ids_set[i]]}\n",
    "                train_part = {\"X\": X_train[train_ids_set[i]], \"Y\": Y_train[train_ids_set[i]]}\n",
    "                W = self.fit(train_part[\"X\"], train_part[\"Y\"], LAMBDA)\n",
    "                Y_pred = self.predict(W, valid_part[\"X\"])\n",
    "                avg_RSS += self.compute_RSS(valid_part[\"Y\"], Y_pred)\n",
    "            return avg_RSS/(num_folds)\n",
    "            \n",
    "        def range_scan(best_LAMBDA, minimum_RSS, LAMBDA_values):\n",
    "            for LAMBDA in LAMBDA_values:\n",
    "                RSS = cross_validation(5, LAMBDA)\n",
    "                if RSS < minimum_RSS:\n",
    "                    best_LAMBDA = LAMBDA\n",
    "                    minimum_RSS = RSS\n",
    "            return best_LAMBDA, minimum_RSS\n",
    "        best_LAMBDA, minimum_RSS = range_scan(best_LAMBDA = 0, minimum_RSS = np.inf, LAMBDA_values = np.array(range(50)))\n",
    "        # after finding temp best_lambda, we continously scan from smaller range around best_lambda\n",
    "        # (max(0, best_lambda - 1), best_lambda + 1) with step = 0.001\n",
    "        LAMBDA_values = [k * 1./1000 for k in range(max(0, (best_LAMBDA - 1)*1000, \\\n",
    "                        (best_LAMBDA+1)*1000, 1))]\n",
    "        best_LAMBDA, minimum_RSS = range_scan(best_LAMBDA, minimum_RSS, LAMBDA_values)\n",
    "        \n",
    "        return best_LAMBDA\n",
    "            \n"
   ]
  },
  {
   "cell_type": "code",
   "execution_count": 30,
   "metadata": {},
   "outputs": [],
   "source": [
    "X = normalize_and_add_ones(X)"
   ]
  },
  {
   "cell_type": "code",
   "execution_count": 35,
   "metadata": {},
   "outputs": [
    {
     "name": "stdout",
     "output_type": "stream",
     "text": [
      "Best found LAMBDA 0.002\n",
      "1527.0698078029448\n",
      "[877.39059783 921.33583769 931.7104582  893.81221771 993.93880571\n",
      " 894.54583255 932.43571582 891.59941659 912.15753609 923.87639342]\n"
     ]
    }
   ],
   "source": [
    "X_train, Y_train = X[:50], Y[:50]\n",
    "X_test, Y_test = X[50:], Y[50:]\n",
    "ridge_regression = RidgeRegression()\n",
    "best_LAMBDA = ridge_regression.get_the_best_LAMBDA(X_train, Y_train)\n",
    "print(\"Best found LAMBDA\", best_LAMBDA)\n",
    "W = ridge_regression.fit(X_train, Y_train, LAMBDA = best_LAMBDA)\n",
    "Y_pred = ridge_regression.predict(W, X_test)\n",
    "RSS = ridge_regression.compute_RSS(Y_test, Y_pred)\n",
    "print(RSS)\n",
    "print(Y_pred)"
   ]
  },
  {
   "cell_type": "code",
   "execution_count": null,
   "metadata": {},
   "outputs": [],
   "source": []
  }
 ],
 "metadata": {
  "kernelspec": {
   "display_name": "Python 3 (ipykernel)",
   "language": "python",
   "name": "python3"
  },
  "language_info": {
   "codemirror_mode": {
    "name": "ipython",
    "version": 3
   },
   "file_extension": ".py",
   "mimetype": "text/x-python",
   "name": "python",
   "nbconvert_exporter": "python",
   "pygments_lexer": "ipython3",
   "version": "3.9.0"
  },
  "vscode": {
   "interpreter": {
    "hash": "aee8b7b246df8f9039afb4144a1f6fd8d2ca17a180786b69acc140d282b71a49"
   }
  }
 },
 "nbformat": 4,
 "nbformat_minor": 2
}
