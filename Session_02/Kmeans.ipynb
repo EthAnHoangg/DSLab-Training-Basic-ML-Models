{
 "cells": [
  {
   "cell_type": "code",
   "execution_count": 2,
   "metadata": {},
   "outputs": [],
   "source": [
    "from Kmeans import Kmeans"
   ]
  },
  {
   "cell_type": "code",
   "execution_count": 3,
   "metadata": {},
   "outputs": [
    {
     "name": "stdout",
     "output_type": "stream",
     "text": [
      "=========== Processing 0-th epoch =============\n",
      "=========== Processing 1-th epoch =============\n",
      "=========== Processing 2-th epoch =============\n",
      "=========== Processing 3-th epoch =============\n",
      "=========== Processing 4-th epoch =============\n",
      "=========== Processing 5-th epoch =============\n"
     ]
    }
   ],
   "source": [
    "model  = Kmeans(num_clusters = 20)\n",
    "model.load_data(\"../datasets/20news-bydate/data_tf_idf.txt\")\n",
    "model.run(seed_value=202, criterion=\"max_iters\", threshold=6)"
   ]
  },
  {
   "cell_type": "code",
   "execution_count": 4,
   "metadata": {},
   "outputs": [
    {
     "name": "stdout",
     "output_type": "stream",
     "text": [
      "Cluster 0 has 1 members\n",
      "Cluster 1 has 31 members\n",
      "Cluster 2 has 1846 members\n",
      "Cluster 3 has 185 members\n",
      "Cluster 4 has 2 members\n",
      "Cluster 5 has 31 members\n",
      "Cluster 6 has 1 members\n",
      "Cluster 7 has 4 members\n",
      "Cluster 8 has 186 members\n",
      "Cluster 9 has 8250 members\n",
      "Cluster 10 has 1217 members\n",
      "Cluster 11 has 602 members\n",
      "Cluster 12 has 1 members\n",
      "Cluster 13 has 68 members\n",
      "Cluster 14 has 150 members\n",
      "Cluster 15 has 2982 members\n",
      "Cluster 16 has 2 members\n",
      "Cluster 17 has 2963 members\n",
      "Cluster 18 has 324 members\n",
      "Cluster 19 has 0 members\n"
     ]
    }
   ],
   "source": [
    "for i in range(20):\n",
    "    print(\"Cluster {i} has {members} members\".format(\n",
    "        i=i, members=len(model._cluster[i]._members)))\n"
   ]
  },
  {
   "cell_type": "code",
   "execution_count": 6,
   "metadata": {},
   "outputs": [
    {
     "name": "stdout",
     "output_type": "stream",
     "text": [
      "Purity = 0.14522975697760798\n"
     ]
    }
   ],
   "source": [
    "print(\"Purity = {}\".format(model.compute_purity()))"
   ]
  },
  {
   "cell_type": "code",
   "execution_count": null,
   "metadata": {},
   "outputs": [],
   "source": []
  }
 ],
 "metadata": {
  "kernelspec": {
   "display_name": "Python 3",
   "language": "python",
   "name": "python3"
  },
  "language_info": {
   "codemirror_mode": {
    "name": "ipython",
    "version": 3
   },
   "file_extension": ".py",
   "mimetype": "text/x-python",
   "name": "python",
   "nbconvert_exporter": "python",
   "pygments_lexer": "ipython3",
   "version": "3.9.0"
  },
  "orig_nbformat": 4,
  "vscode": {
   "interpreter": {
    "hash": "aee8b7b246df8f9039afb4144a1f6fd8d2ca17a180786b69acc140d282b71a49"
   }
  }
 },
 "nbformat": 4,
 "nbformat_minor": 2
}
