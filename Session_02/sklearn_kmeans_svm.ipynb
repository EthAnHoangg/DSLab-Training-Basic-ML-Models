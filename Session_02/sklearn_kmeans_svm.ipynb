{
 "cells": [
  {
   "attachments": {},
   "cell_type": "markdown",
   "metadata": {},
   "source": [
    "## Import models from sklearn library"
   ]
  },
  {
   "cell_type": "code",
   "execution_count": 1,
   "metadata": {},
   "outputs": [],
   "source": [
    "from sklearn.cluster import KMeans\n",
    "from scipy.sparse import csr_matrix\n",
    "from sklearn.svm import SVC\n",
    "from sklearn.svm import LinearSVC\n",
    "from collections import defaultdict\n",
    "\n",
    "import numpy as np"
   ]
  },
  {
   "attachments": {},
   "cell_type": "markdown",
   "metadata": {},
   "source": [
    "# Kmeans"
   ]
  },
  {
   "cell_type": "code",
   "execution_count": 2,
   "metadata": {},
   "outputs": [],
   "source": [
    "def load_data(data_path):\n",
    "    def sparse_to_dense(sparse_r_d, vocab_size):\n",
    "        \"\"\"\n",
    "        Convert a sparse representation of a document by tf-idf to dense form\n",
    "        by mapping its word to a new vector of vocabulary size.\n",
    "        Word without any appearance in the doc get the value 0.0\n",
    "        \"\"\"\n",
    "        r_d = [0.0 for _ in range(vocab_size)]\n",
    "        indices_tf_idfs = sparse_r_d.split()\n",
    "        for index_tf_idf in indices_tf_idfs:\n",
    "            index = int(index_tf_idf.split(\":\")[0])\n",
    "            tfidf = float(index_tf_idf.split(\":\")[1])\n",
    "            r_d[index] = tfidf\n",
    "        return np.array(r_d)\n",
    "    with open(data_path) as f:\n",
    "        d_lines = f.read().splitlines()\n",
    "    with open(\"../datasets/20news-bydate/words_idfs.txt\") as f:\n",
    "        vocab_size = len(f.read().splitlines())\n",
    "\n",
    "    X = []\n",
    "    Y = []\n",
    "    label_count = defaultdict(int)\n",
    "    for data_id, d in enumerate(d_lines):\n",
    "        features = d.split(\"<fff>\")\n",
    "        label, doc_id = int(features[0]), int(features[1])\n",
    "        label_count[label] += 1\n",
    "        r_d = sparse_to_dense(\n",
    "            sparse_r_d=features[2], vocab_size=vocab_size)\n",
    "        X.append(r_d)\n",
    "        Y.append(label)\n",
    "    return X, Y\n",
    "        "
   ]
  },
  {
   "cell_type": "code",
   "execution_count": 3,
   "metadata": {},
   "outputs": [],
   "source": [
    "X, Y = load_data(data_path=\"../datasets/20news-bydate/data_tf_idf.txt\")"
   ]
  },
  {
   "cell_type": "code",
   "execution_count": 4,
   "metadata": {},
   "outputs": [],
   "source": [
    "def clustering_with_kmeans(X, Y):\n",
    "    X = csr_matrix(X)\n",
    "    model = KMeans(\n",
    "        n_clusters=20,\n",
    "        # init = \"k-means++\",\n",
    "        init = \"random\",\n",
    "        n_init = 5,\n",
    "        tol=1e-3,\n",
    "        random_state=2023\n",
    "    )\n",
    "    model.fit(X)\n",
    "    Y_pred = model.labels_\n",
    "    return(Y_pred)"
   ]
  },
  {
   "cell_type": "code",
   "execution_count": 5,
   "metadata": {},
   "outputs": [],
   "source": [
    "Y_pred = clustering_with_kmeans(X, Y)"
   ]
  },
  {
   "cell_type": "code",
   "execution_count": 6,
   "metadata": {},
   "outputs": [],
   "source": [
    "def compute_accuracy(Y_pred, Y):\n",
    "    matches = len(np.where(Y_pred == Y)[0])\n",
    "    total = len(Y_pred)\n",
    "    return matches/total"
   ]
  },
  {
   "cell_type": "code",
   "execution_count": 7,
   "metadata": {},
   "outputs": [
    {
     "data": {
      "text/plain": [
       "0.10511514379709222"
      ]
     },
     "execution_count": 7,
     "metadata": {},
     "output_type": "execute_result"
    }
   ],
   "source": [
    "compute_accuracy(Y_pred, Y)"
   ]
  },
  {
   "attachments": {},
   "cell_type": "markdown",
   "metadata": {},
   "source": [
    "# Linear SVM"
   ]
  },
  {
   "cell_type": "code",
   "execution_count": 10,
   "metadata": {},
   "outputs": [],
   "source": [
    "def classifying_with_linear_SVMs():\n",
    "    X_train, Y_train = load_data('../datasets/20news-bydate/train_tf_idf.txt')\n",
    "    X_test, Y_test = load_data('../datasets/20news-bydate/test_tf_idf.txt')\n",
    "    classifier = LinearSVC(\n",
    "        C = 10.0, #penalty co-efficience\n",
    "        tol = 1e-3, # tolerance for stopping criterion\n",
    "        verbose = True # whether to print log or not\n",
    "    )\n",
    "    classifier.fit(csr_matrix(X_train), Y_train)\n",
    "\n",
    "    Y_pred = classifier.predict(X_test)\n",
    "    accuracy = compute_accuracy(Y_pred, Y_test)\n",
    "    print('Accuracy: {}'.format(accuracy))"
   ]
  },
  {
   "cell_type": "code",
   "execution_count": 11,
   "metadata": {},
   "outputs": [
    {
     "name": "stdout",
     "output_type": "stream",
     "text": [
      "[LibLinear]Accuracy: 0.8267392458842273\n"
     ]
    }
   ],
   "source": [
    "classifying_with_linear_SVMs()"
   ]
  },
  {
   "attachments": {},
   "cell_type": "markdown",
   "metadata": {},
   "source": [
    "# Kernel SVMs"
   ]
  },
  {
   "cell_type": "code",
   "execution_count": 17,
   "metadata": {},
   "outputs": [],
   "source": [
    "def classifying_with_kernel_SVMs():\n",
    "    X_train, Y_train = load_data('../datasets/20news-bydate/train_tf_idf.txt')\n",
    "    X_test, Y_test = load_data('../datasets/20news-bydate/test_tf_idf.txt')\n",
    "    classifier = SVC(\n",
    "        C = 50.0, #penalty co-efficience\n",
    "        kernel = \"rbf\",\n",
    "        gamma = 0.1,\n",
    "        tol = 1e-3, # tolerance for stopping criterion\n",
    "        verbose = True # whether to print log or not\n",
    "    )\n",
    "    classifier.fit(csr_matrix(X_train), Y_train)\n",
    "    print(\"Training process finished!\")\n",
    "    Y_pred = classifier.predict(X_test)\n",
    "    accuracy = compute_accuracy(Y_pred, Y_test)\n",
    "    print('Accuracy: {}'.format(accuracy))"
   ]
  },
  {
   "cell_type": "code",
   "execution_count": 18,
   "metadata": {},
   "outputs": [
    {
     "name": "stdout",
     "output_type": "stream",
     "text": [
      "[LibSVM]Training process finished!\n",
      "Accuracy: 0.8250132766861391\n"
     ]
    }
   ],
   "source": [
    "classifying_with_kernel_SVMs()"
   ]
  },
  {
   "cell_type": "code",
   "execution_count": null,
   "metadata": {},
   "outputs": [],
   "source": []
  }
 ],
 "metadata": {
  "kernelspec": {
   "display_name": "Python 3",
   "language": "python",
   "name": "python3"
  },
  "language_info": {
   "codemirror_mode": {
    "name": "ipython",
    "version": 3
   },
   "file_extension": ".py",
   "mimetype": "text/x-python",
   "name": "python",
   "nbconvert_exporter": "python",
   "pygments_lexer": "ipython3",
   "version": "3.9.0 (v3.9.0:9cf6752276, Oct  5 2020, 11:29:23) \n[Clang 6.0 (clang-600.0.57)]"
  },
  "orig_nbformat": 4,
  "vscode": {
   "interpreter": {
    "hash": "aee8b7b246df8f9039afb4144a1f6fd8d2ca17a180786b69acc140d282b71a49"
   }
  }
 },
 "nbformat": 4,
 "nbformat_minor": 2
}
